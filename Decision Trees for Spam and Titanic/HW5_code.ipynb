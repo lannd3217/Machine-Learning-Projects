{
  "nbformat": 4,
  "nbformat_minor": 0,
  "metadata": {
    "colab": {
      "provenance": []
    },
    "kernelspec": {
      "name": "python3",
      "display_name": "Python 3"
    },
    "language_info": {
      "name": "python"
    }
  },
  "cells": [
    {
      "cell_type": "code",
      "execution_count": 1,
      "metadata": {
        "colab": {
          "base_uri": "https://localhost:8080/",
          "height": 0
        },
        "id": "Lxwqq9nP6pAV",
        "outputId": "228755cd-44a1-4aa9-89c1-8de7d19dd087"
      },
      "outputs": [
        {
          "output_type": "stream",
          "name": "stdout",
          "text": [
            "Mounted at /content/drive\n",
            "Archive:  /content/drive/MyDrive/CS 189/hw5.zip\n",
            "   creating: /content/hw5/\n",
            "   creating: /content/hw5/datasets/\n",
            "  inflating: /content/hw5/decision_tree_starter.py  \n",
            "  inflating: /content/hw5/hw5.pdf    \n",
            "   creating: /content/hw5/datasets/titanic/\n",
            "   creating: /content/hw5/datasets/spam_data/\n",
            "  inflating: /content/hw5/datasets/titanic/titanic_training.csv  \n",
            "  inflating: /content/hw5/datasets/titanic/titanic_testing_data.csv  \n",
            "  inflating: /content/hw5/datasets/spam_data/spam_data.mat  \n",
            "/content/hw5\n"
          ]
        }
      ],
      "source": [
        "from google.colab import drive\n",
        "drive.mount('/content/drive')\n",
        "!unzip -u \"/content/drive/MyDrive/CS 189/hw5.zip\" -d /content\n",
        "## Locate this notebook inside data\n",
        "%cd /content/hw5"
      ]
    },
    {
      "cell_type": "code",
      "source": [
        "# import libraries\n",
        "import matplotlib.pyplot as plt\n",
        "import pandas as pd\n",
        "import numpy as np\n",
        "from scipy import stats\n",
        "from sklearn.model_selection import train_test_split"
      ],
      "metadata": {
        "id": "cWOfY-4U63Q3"
      },
      "execution_count": 2,
      "outputs": []
    },
    {
      "cell_type": "code",
      "source": [
        "def preprocess(data, fill_mode=True, min_freq=10, onehot_cols=[]):\n",
        "    # fill_mode = False\n",
        "\n",
        "    # Temporarily assign -1 to missing data\n",
        "    data[data == b''] = '-1'\n",
        "\n",
        "    # Hash the columns (used for handling strings)\n",
        "    onehot_encoding = []\n",
        "    onehot_features = []\n",
        "    for col in onehot_cols:\n",
        "        counter = Counter(data[:, col])\n",
        "        for term in counter.most_common():\n",
        "            if term[0] == b'-1':\n",
        "                continue\n",
        "            if term[-1] <= min_freq:\n",
        "                break\n",
        "            onehot_features.append(term[0])\n",
        "            onehot_encoding.append((data[:, col] == term[0]).astype(float))\n",
        "        data[:, col] = '0'\n",
        "    onehot_encoding = np.array(onehot_encoding).T\n",
        "    data = np.hstack(\n",
        "        [np.array(data, dtype=float),\n",
        "         np.array(onehot_encoding)])\n",
        "\n",
        "    # Replace missing data with the mode value. We use the mode instead of\n",
        "    # the mean or median because this makes more sense for categorical\n",
        "    # features such as gender or cabin type, which are not ordered.\n",
        "    if fill_mode:\n",
        "        # TODO\n",
        "        for col in range(data.shape[1]):\n",
        "            if col not in onehot_cols:  # Skip one-hot encoded columns\n",
        "                # Calculate mode for each column\n",
        "                unique, counts = np.unique(data[:, col][data[:, col] != -1], return_counts=True)\n",
        "                if len(unique) > 0:  # Check if there are non-missing values\n",
        "                    mode_value = unique[np.argmax(counts)]\n",
        "                    # Replace missing values with mode\n",
        "                    data[:, col][data[:, col] == -1] = mode_value\n",
        "\n",
        "    return data, onehot_features\n",
        "def LoadData(dataset):\n",
        "    if dataset == \"titanic\":\n",
        "        # Load titanic data\n",
        "        path_train = 'datasets/titanic/titanic_training.csv'\n",
        "        data = genfromtxt(path_train, delimiter=',', dtype=None)\n",
        "        path_test = 'datasets/titanic/titanic_testing_data.csv'\n",
        "        test_data = genfromtxt(path_test, delimiter=',', dtype=None)\n",
        "        y = data[1:, 0]  # label = survived\n",
        "        class_names = [\"Died\", \"Survived\"]\n",
        "\n",
        "        labeled_idx = np.where(y != b'')[0]\n",
        "        y = np.array(y[labeled_idx], dtype=float).astype(int)\n",
        "        # print(\"\\n\\nPart (b): preprocessing the titanic dataset\")\n",
        "        X, onehot_features = preprocess(data[1:, 1:], onehot_cols=[1, 5, 7, 8])\n",
        "        X = X[labeled_idx, :]\n",
        "        Z, _ = preprocess(test_data[1:, :], onehot_cols=[1, 5, 7, 8])\n",
        "        assert X.shape[1] == Z.shape[1]\n",
        "        features = list(data[0, 1:]) + onehot_features\n",
        "\n",
        "    elif dataset == \"spam\":\n",
        "        features = [\n",
        "            \"pain\", \"private\", \"bank\", \"money\", \"drug\", \"spam\", \"prescription\",\n",
        "            \"creative\", \"height\", \"featured\", \"differ\", \"width\", \"other\",\n",
        "            \"energy\", \"business\", \"message\", \"volumes\", \"revision\", \"path\",\n",
        "            \"meter\", \"memo\", \"planning\", \"pleased\", \"record\", \"out\",\n",
        "            \"semicolon\", \"dollar\", \"sharp\", \"exclamation\", \"parenthesis\",\n",
        "            \"square_bracket\", \"ampersand\"\n",
        "        ]\n",
        "        assert len(features) == 32\n",
        "\n",
        "        # Load spam data\n",
        "        path_train = 'datasets/spam_data/spam_data.mat'\n",
        "        data = scipy.io.loadmat(path_train)\n",
        "        X = data['training_data']\n",
        "        y = np.squeeze(data['training_labels'])\n",
        "        Z = data['test_data']\n",
        "        class_names = [\"Ham\", \"Spam\"]\n",
        "    else:\n",
        "        raise NotImplementedError(\"Dataset %s not handled\" % dataset)\n",
        "\n",
        "    return X, y, Z, features, class_names"
      ],
      "metadata": {
        "id": "-7RuAhHs675w"
      },
      "execution_count": 3,
      "outputs": []
    },
    {
      "cell_type": "code",
      "source": [
        "\"\"\"\n",
        "Have Fun!\n",
        "- 189 Course Staff\n",
        "\"\"\"\n",
        "from collections import Counter\n",
        "\n",
        "import numpy as np\n",
        "from numpy import genfromtxt\n",
        "import scipy.io\n",
        "from sklearn.tree import DecisionTreeClassifier, export_graphviz\n",
        "from sklearn.base import BaseEstimator, ClassifierMixin\n",
        "from sklearn.model_selection import cross_val_score\n",
        "from pydot import graph_from_dot_data\n",
        "import io\n",
        "\n",
        "import random\n",
        "random.seed(246810)\n",
        "np.random.seed(246810)\n",
        "\n",
        "eps = 1e-5  # a small number\n",
        "\n",
        "\n",
        "class DecisionTree:\n",
        "\n",
        "    def __init__(self, max_depth=3, feature_labels=None, m=None):\n",
        "        self.max_depth = max_depth\n",
        "        self.features = feature_labels\n",
        "        self.left, self.right = None, None  # for non-leaf nodes\n",
        "        self.split_idx, self.thresh = None, None  # for non-leaf nodes\n",
        "        self.data, self.pred = None, None  # for leaf nodes\n",
        "\n",
        "        self.m = m\n",
        "\n",
        "    @staticmethod\n",
        "    def entropy(y):\n",
        "        # TODO\n",
        "        value, counts = np.unique(y, return_counts= True)\n",
        "        probs = counts/ counts.sum()\n",
        "        entropy = -np.sum(probs*np.log2(probs+eps))\n",
        "        return entropy\n",
        "\n",
        "    @staticmethod\n",
        "    def information_gain(X, y, thresh):\n",
        "        # TODO\n",
        "        entropy_before = DecisionTree.entropy(y)\n",
        "\n",
        "        left = y[np.where(X< thresh)[0]]\n",
        "        right = y[np.where(X >= thresh)[0]]\n",
        "\n",
        "        left_weight = len(left)/len(y)\n",
        "        right_weight = len(right) / len(y)\n",
        "\n",
        "        entropy_after = (left_weight * DecisionTree.entropy(left)\n",
        "        + right_weight * DecisionTree.entropy(right))\n",
        "\n",
        "        return entropy_before - entropy_after\n",
        "\n",
        "\n",
        "    def split(self, X, y, idx, thresh):\n",
        "        X0, idx0, X1, idx1 = self.split_test(X, idx=idx, thresh=thresh)\n",
        "        y0, y1 = y[idx0], y[idx1]\n",
        "        return X0, y0, X1, y1\n",
        "\n",
        "    def split_test(self, X, idx, thresh):\n",
        "        idx0 = np.where(X[:, idx] < thresh)[0]\n",
        "        idx1 = np.where(X[:, idx] >= thresh)[0]\n",
        "        X0, X1 = X[idx0, :], X[idx1, :]\n",
        "        return X0, idx0, X1, idx1\n",
        "\n",
        "\n",
        "    def fit(self, X, y):\n",
        "        if self.max_depth <= 0:\n",
        "          # Directly assign data, labels, and prediction for leaf nodes.\n",
        "          self.data, self.labels = X, y\n",
        "          self.pred = stats.mode(y)[0]  # Assure mode's first value is taken.\n",
        "          return self\n",
        "\n",
        "        original_data = X\n",
        "\n",
        "        # If feature bagging is applied, select a subset of features.\n",
        "        if self.m:\n",
        "          attribute_bag = np.random.choice(range(len(self.features)), size=self.m, replace=False)\n",
        "          X = original_data[:, attribute_bag]\n",
        "        else:\n",
        "          attribute_bag = None\n",
        "\n",
        "        # Calculate gains for all possible splits.\n",
        "        thresh = np.array([np.linspace(np.min(X[:, i]) + eps, np.max(X[:, i]) - eps, num=10) for i in range(X.shape[1])])\n",
        "        gains = np.array([[self.information_gain(X[:, i], y, t) for t in thresh[i]] for i in range(X.shape[1])])\n",
        "        gains = np.nan_to_num(gains)\n",
        "\n",
        "        # Find the best split.\n",
        "        self.split_idx, thresh_idx = np.unravel_index(np.argmax(gains), gains.shape)\n",
        "        self.thresh = thresh[self.split_idx, thresh_idx]\n",
        "\n",
        "        # Adjust split index if attribute bagging was used.\n",
        "        if self.m:\n",
        "          self.split_idx = attribute_bag[self.split_idx]\n",
        "\n",
        "        # Perform the split.\n",
        "        X0, y0, X1, y1 = self.split(original_data, y, idx=self.split_idx, thresh=self.thresh)\n",
        "\n",
        "        # If a valid split is found, create child nodes; otherwise, make current node a leaf.\n",
        "        if X0.size > 0 and X1.size > 0:\n",
        "          self.left = DecisionTree(max_depth=self.max_depth - 1, feature_labels=self.features, m=self.m).fit(X0, y0)\n",
        "          self.right = DecisionTree(max_depth=self.max_depth - 1, feature_labels=self.features, m=self.m).fit(X1, y1)\n",
        "        else:\n",
        "          self.data, self.labels = original_data, y\n",
        "          self.pred = stats.mode(y)[0]  # Ensure mode's first value is taken.\n",
        "\n",
        "        return self\n",
        "\n",
        "\n",
        "    def predict_single(self, x):\n",
        "        if self.pred is not None:\n",
        "            return self.pred\n",
        "        elif x[self.split_idx] < self.thresh:\n",
        "            return self.left.predict_single(x)\n",
        "        else:\n",
        "            return self.right.predict_single(x)\n",
        "\n",
        "    def predict(self, X):\n",
        "        # TODO\n",
        "        return np.array([self.predict_single(x) for x in X])\n",
        "\n",
        "    def __repr__(self):\n",
        "        if self.max_depth == 0:\n",
        "            return \"%s (%s)\" % (self.pred, self.labels.size)\n",
        "        else:\n",
        "            return \"[%s < %s: %s | %s]\" % (self.features[self.split_idx],\n",
        "                                           self.thresh, self.left.__repr__(),\n",
        "                                           self.right.__repr__())\n",
        "\n",
        "\n",
        "\n",
        "def evaluate(clf):\n",
        "    print(\"Cross validation\", cross_val_score(clf, X, y))\n",
        "    if hasattr(clf, \"decision_trees\"):\n",
        "        counter = Counter([t.tree_.feature[0] for t in clf.decision_trees])\n",
        "        first_splits = [\n",
        "            (features[term[0]], term[1]) for term in counter.most_common()\n",
        "        ]\n",
        "        print(\"First splits\", first_splits)\n",
        "\n",
        "def accuracy(pred, labels):\n",
        "  return np.sum(pred == labels) / len(labels)\n"
      ],
      "metadata": {
        "id": "F_L3joeq7kB9"
      },
      "execution_count": 4,
      "outputs": []
    },
    {
      "cell_type": "code",
      "source": [
        "class BaggedTrees:\n",
        "    def __init__(self, maxdepth=3, n=25, features=None, sample_size=None):\n",
        "        self.n = n\n",
        "        self.sample_size = sample_size\n",
        "        self.decision_trees = [\n",
        "            DecisionTree(max_depth=maxdepth, feature_labels=features)\n",
        "            for _ in range(n)\n",
        "        ]\n",
        "\n",
        "    def fit(self, X, y):\n",
        "        assert self.sample_size <= len(y), \"Sample size cannot be greater than input size.\"\n",
        "\n",
        "        # Combine X and y for easier sampling\n",
        "        full_dataset = np.hstack((X, y.reshape(-1, 1)))\n",
        "\n",
        "        for tree in self.decision_trees:\n",
        "            # Sample indices with replacement\n",
        "            indices = np.random.choice(np.arange(len(full_dataset)), size=self.sample_size, replace=True)\n",
        "            # Select the samples\n",
        "            sampled_data = full_dataset[indices]\n",
        "            # Split samples back into X and y\n",
        "            train_X, train_y = sampled_data[:, :-1], sampled_data[:, -1]\n",
        "\n",
        "            tree.fit(train_X, train_y.ravel())  # Ensure y is a 1D array for compatibility\n",
        "\n",
        "    def predict(self, X):\n",
        "        # Collect predictions from each tree\n",
        "        predictions = np.array([tree.predict(X) for tree in self.decision_trees])\n",
        "        # Calculate mode across predictions for each sample\n",
        "        mode_prediction, _ = stats.mode(predictions, axis=0)\n",
        "        return mode_prediction.ravel()  # Flatten to match expected output shape\n",
        "\n",
        "\n",
        "class RandomForest(BaggedTrees):\n",
        "    def __init__(self, maxdepth=7, n=25, features=None, sample_size=None, m=1):\n",
        "        # Initialize the base class (BaggedTrees) with most parameters\n",
        "        super().__init__(maxdepth=maxdepth, n=n, features=features, sample_size=sample_size)\n",
        "\n",
        "        # Override the decision_trees list with DecisionTree instances that include the 'm' parameter\n",
        "        self.decision_trees = [DecisionTree(max_depth=maxdepth, feature_labels=features, m=m) for _ in range(n)]"
      ],
      "metadata": {
        "id": "n7cbdgy6S3ls"
      },
      "execution_count": 5,
      "outputs": []
    },
    {
      "cell_type": "markdown",
      "source": [
        "## Spam Dataset"
      ],
      "metadata": {
        "id": "JRuK76Ha2NlV"
      }
    },
    {
      "cell_type": "code",
      "source": [
        "dataset ='spam'\n",
        "X_spam, y_spam, spam_test, features, class_names = LoadData(dataset)\n",
        "X_train_spam, X_val_spam, y_train_spam, y_val_spam = train_test_split(X, y, test_size = 0.2, random_state=42)"
      ],
      "metadata": {
        "id": "9RdzdOPP7PUr"
      },
      "execution_count": 50,
      "outputs": []
    },
    {
      "cell_type": "code",
      "source": [
        "# Decision tree with depth=3 for Spam Data\n",
        "clf = DecisionTree(max_depth=3, feature_labels =features)\n",
        "clf.fit(X_train_spam, y_train_spam)"
      ],
      "metadata": {
        "colab": {
          "base_uri": "https://localhost:8080/",
          "height": 0
        },
        "id": "LCWt97db9Fvt",
        "outputId": "e7d3eece-a0ba-47ae-9b7e-3d8660495785"
      },
      "execution_count": 20,
      "outputs": [
        {
          "output_type": "execute_result",
          "data": {
            "text/plain": [
              "[exclamation < 1e-05: [parenthesis < 1e-05: [meter < 1e-05: 0.0 (1602) | 0.0 (148)] | [money < 1e-05: 0.0 (1407) | 1.0 (54)]] | [parenthesis < 1e-05: [money < 1e-05: 1.0 (598) | 1.0 (78)] | [dollar < 1e-05: 0.0 (418) | 1.0 (198)]]]"
            ]
          },
          "metadata": {},
          "execution_count": 20
        }
      ]
    },
    {
      "cell_type": "code",
      "source": [
        "train = []\n",
        "val = []\n",
        "for depth in range(1, 41):\n",
        "  print(depth)\n",
        "  clf = DecisionTree(max_depth=depth, feature_labels =features)\n",
        "  clf.fit(X_train_spam, y_train_spam)\n",
        "  train_pred = clf.predict(X_train_spam)\n",
        "  train_acc = accuracy(train_pred, y_train_spam)\n",
        "  val_pred = clf.predict(X_val_spam)\n",
        "  val_acc = accuracy(val_pred, y_val_spam)\n",
        "  train.append(train_acc)\n",
        "  val.append(val_acc)"
      ],
      "metadata": {
        "colab": {
          "base_uri": "https://localhost:8080/",
          "height": 0
        },
        "id": "4SPqOElhECgo",
        "outputId": "a313be65-b6e5-422f-b867-16645ce1e6ed"
      },
      "execution_count": 22,
      "outputs": [
        {
          "output_type": "stream",
          "name": "stdout",
          "text": [
            "1\n",
            "2\n",
            "3\n",
            "4\n",
            "5\n",
            "6\n",
            "7\n",
            "8\n",
            "9\n",
            "10\n",
            "11\n",
            "12\n",
            "13\n",
            "14\n",
            "15\n",
            "16\n",
            "17\n",
            "18\n",
            "19\n",
            "20\n",
            "21\n",
            "22\n",
            "23\n",
            "24\n",
            "25\n",
            "26\n",
            "27\n",
            "28\n",
            "29\n",
            "30\n",
            "31\n",
            "32\n",
            "33\n",
            "34\n",
            "35\n",
            "36\n",
            "37\n",
            "38\n",
            "39\n",
            "40\n"
          ]
        }
      ]
    },
    {
      "cell_type": "code",
      "source": [
        "plt.plot(range(1, 41), train, label= 'train')\n",
        "plt.plot(range(1, 41), val, label = 'val')\n",
        "plt.title(\"Validation Accuracies over depths from 1 to 40 for Decision Tree on Spam Dataset\")\n",
        "plt.legend()\n",
        "plt.show()"
      ],
      "metadata": {
        "colab": {
          "base_uri": "https://localhost:8080/",
          "height": 452
        },
        "id": "eKDQgwDfEMtZ",
        "outputId": "f3ab7206-3195-4afd-e558-71cac93dd3cd"
      },
      "execution_count": 23,
      "outputs": [
        {
          "output_type": "display_data",
          "data": {
            "text/plain": [
              "<Figure size 640x480 with 1 Axes>"
            ],
            "image/png": "[encoded data removed]"
          },
          "metadata": {}
        }
      ]
    },
    {
      "cell_type": "code",
      "source": [
        "# Decision Tree for Spam Data\n",
        "maxdepth = 14\n",
        "clf = DecisionTree(max_depth=maxdepth, feature_labels =features)\n",
        "clf.fit(X_train_spam, y_train_spam)\n",
        "train_pred = clf.predict(X_train_spam)\n",
        "train_acc = accuracy(train_pred, y_train_spam)\n",
        "val_pred = clf.predict(X_val_spam)\n",
        "val_acc = accuracy(val_pred, y_val_spam)\n",
        "print(f\"Decison Tree on Spam Data with Depth = {maxdepth} has train accuracy = {train_acc} and val accuracy ={val_acc}\")\n"
      ],
      "metadata": {
        "colab": {
          "base_uri": "https://localhost:8080/",
          "height": 0
        },
        "id": "hOg2_z_L6MPw",
        "outputId": "11267a21-0e55-47d5-d481-a5b4c7f6cb51"
      },
      "execution_count": 24,
      "outputs": [
        {
          "output_type": "stream",
          "name": "stdout",
          "text": [
            "Decison Tree on Spam Data with Depth = 14 has train accuracy = 0.8725294248278925 and val accuracy =0.8206039076376554\n"
          ]
        }
      ]
    },
    {
      "cell_type": "code",
      "source": [
        "# Random Forest for Spam Data\n",
        "np.random.seed(42)\n",
        "rfr = RandomForest(maxdepth=14, n=25, features=features, sample_size=3000, m=6)\n",
        "rfr.fit(X_train_spam, y_train_spam)\n",
        "train_pred = rfr.predict(X_train_spam)\n",
        "train_acc = accuracy(train_pred, y_train_spam)\n",
        "val_pred = rfr.predict(X_val_spam)\n",
        "val_acc = accuracy(val_pred, y_val_spam)\n",
        "print(f\"Random Forest on Spam Data has train accuracy = {train_acc} and val accuracy ={val_acc}\")"
      ],
      "metadata": {
        "colab": {
          "base_uri": "https://localhost:8080/",
          "height": 0
        },
        "id": "9MQ54LfQ8BcT",
        "outputId": "60594c36-87af-493d-a635-ebe1be3ce45f"
      },
      "execution_count": 46,
      "outputs": [
        {
          "output_type": "stream",
          "name": "stdout",
          "text": [
            "Random Forest on Spam Data has train accuracy = 0.8039085054408173 and val accuracy =0.7939609236234458\n"
          ]
        }
      ]
    },
    {
      "cell_type": "markdown",
      "source": [
        "## Titanic Dataset"
      ],
      "metadata": {
        "id": "X_6Xv4ip4kSb"
      }
    },
    {
      "cell_type": "code",
      "source": [
        "dataset ='titanic'\n",
        "X_titanic, y_titanic, titanic_test, features, class_names = LoadData(dataset)\n",
        "X_train_titanic, X_val_titanic, y_train_titanic, y_val_titanic = train_test_split(X, y, test_size = 0.2, random_state=42)"
      ],
      "metadata": {
        "colab": {
          "base_uri": "https://localhost:8080/",
          "height": 0
        },
        "id": "MQ1jpfvrRKcQ",
        "outputId": "4c23c9af-9c7e-442d-82ba-9f067ec13fb1"
      },
      "execution_count": 49,
      "outputs": [
        {
          "output_type": "stream",
          "name": "stderr",
          "text": [
            "<ipython-input-3-76dea0ddda04>:44: VisibleDeprecationWarning: Reading unicode strings without specifying the encoding argument is deprecated. Set the encoding, use None for the system default.\n",
            "  data = genfromtxt(path_train, delimiter=',', dtype=None)\n",
            "<ipython-input-3-76dea0ddda04>:46: VisibleDeprecationWarning: Reading unicode strings without specifying the encoding argument is deprecated. Set the encoding, use None for the system default.\n",
            "  test_data = genfromtxt(path_test, delimiter=',', dtype=None)\n"
          ]
        }
      ]
    },
    {
      "cell_type": "code",
      "source": [
        "# Decision Tree with depth=3 for Titanic Data\n",
        "clf = DecisionTree(max_depth=3, feature_labels =features)\n",
        "clf.fit(X_train_titanic, y_train_titanic)"
      ],
      "metadata": {
        "colab": {
          "base_uri": "https://localhost:8080/",
          "height": 0
        },
        "id": "CPQI4h21RP5P",
        "outputId": "0e0a2c3a-c36a-42ce-9f6d-6e496c0ff8c9"
      },
      "execution_count": 13,
      "outputs": [
        {
          "output_type": "execute_result",
          "data": {
            "text/plain": [
              "[b'female' < 1e-05: [b'pclass' < 1.00001: [b'age' < 53.638896666666675: 0 (95) | 0 (18)] | [b'age' < 33.074056666666664: 0 (325) | 0 (87)]] | [b'pclass' < 2.11111: [b'parch' < 1e-05: 1 (102) | 1 (53)] | [b'fare' < 27.85000333333333: 1 (115) | 0 (12)]]]"
            ]
          },
          "metadata": {},
          "execution_count": 13
        }
      ]
    },
    {
      "cell_type": "code",
      "source": [
        "# Decision Tree for Titanic Data\n",
        "maxdepth = 6\n",
        "clf = DecisionTree(max_depth=maxdepth, feature_labels =features)\n",
        "clf.fit(X_train_titanic, y_train_titanic)\n",
        "train_pred = clf.predict(X_train_titanic)\n",
        "train_acc = accuracy(train_pred, y_train_titanic)\n",
        "val_pred = clf.predict(X_val_titanic)\n",
        "val_acc = accuracy(val_pred, y_val_titanic)\n",
        "print(f\"Decison Tree on Titanic Data with Depth = {maxdepth} has train accuracy = {train_acc} and val accuracy ={val_acc}\")"
      ],
      "metadata": {
        "colab": {
          "base_uri": "https://localhost:8080/",
          "height": 0
        },
        "id": "5Eyqds4a-KZo",
        "outputId": "e093d535-b866-40c7-bbbe-072f02d012ac"
      },
      "execution_count": 42,
      "outputs": [
        {
          "output_type": "stream",
          "name": "stdout",
          "text": [
            "Decison Tree on Titanic Data with Depth = 6 has train accuracy = 0.8302354399008675 and val accuracy =0.8267326732673267\n"
          ]
        }
      ]
    },
    {
      "cell_type": "code",
      "source": [
        "# Random Forest for Titanic Data\n",
        "np.random.seed(42)\n",
        "rfr = RandomForest(maxdepth=6, n=80, features=features, sample_size=700, m=4)\n",
        "rfr.fit(X_train_titanic, y_train_titanic)\n",
        "train_pred = rfr.predict(X_train_titanic)\n",
        "train_acc = accuracy(train_pred, y_train_titanic)\n",
        "val_pred = rfr.predict(X_val_titanic)\n",
        "val_acc = accuracy(val_pred, y_val_titanic)\n",
        "train_acc\n",
        "print(f\"Random Forest on Titanic Data has train accuracy = {train_acc} and val accuracy ={val_acc}\")"
      ],
      "metadata": {
        "colab": {
          "base_uri": "https://localhost:8080/",
          "height": 0
        },
        "id": "3akvFBw7UvAW",
        "outputId": "e3e325d9-9b30-4de4-a1fb-380383eea044"
      },
      "execution_count": 44,
      "outputs": [
        {
          "output_type": "stream",
          "name": "stdout",
          "text": [
            "Random Forest on Titanic Data has train accuracy = 0.8178438661710037 and val accuracy =0.7920792079207921\n"
          ]
        }
      ]
    },
    {
      "cell_type": "markdown",
      "source": [
        "## Kaggle Submission"
      ],
      "metadata": {
        "id": "OQS27mlJ_QOs"
      }
    },
    {
      "cell_type": "code",
      "source": [
        "import pandas as pd\n",
        "import numpy as np\n",
        "\n",
        "# Usage: results_to_csv(clf.predict(X_test))\n",
        "def results_to_csv(y_test, name):\n",
        "    y_test = y_test.astype(int)\n",
        "    df = pd.DataFrame({'Category': y_test})\n",
        "    df.index += 1 # Ensures that the index starts at 1\n",
        "    df.to_csv(f\"{name}_submission.csv\", index_label='Id')"
      ],
      "metadata": {
        "id": "KcUbHewZ_S8K"
      },
      "execution_count": 52,
      "outputs": []
    },
    {
      "cell_type": "markdown",
      "source": [
        "Spam Best Classifier"
      ],
      "metadata": {
        "id": "kenyo1YH_bjP"
      }
    },
    {
      "cell_type": "code",
      "source": [
        "# Best decision tree with depth = 14\n",
        "clf = DecisionTree(max_depth=14, feature_labels =features)\n",
        "clf.fit(X_spam, y_spam)\n",
        "y_pred = clf.predict(spam_test)\n",
        "y_pred.shape"
      ],
      "metadata": {
        "colab": {
          "base_uri": "https://localhost:8080/",
          "height": 0
        },
        "id": "PW0jEiRq_fpC",
        "outputId": "467e496c-18da-430e-aaf7-c79287c355e1"
      },
      "execution_count": 64,
      "outputs": [
        {
          "output_type": "execute_result",
          "data": {
            "text/plain": [
              "(5400,)"
            ]
          },
          "metadata": {},
          "execution_count": 64
        }
      ]
    },
    {
      "cell_type": "code",
      "source": [
        "results_to_csv(y_pred, 'spam')"
      ],
      "metadata": {
        "id": "eMurazl0JYMv"
      },
      "execution_count": 65,
      "outputs": []
    },
    {
      "cell_type": "markdown",
      "source": [
        "Titanic Best Classifier"
      ],
      "metadata": {
        "id": "793I9FhK_gQW"
      }
    },
    {
      "cell_type": "code",
      "source": [
        "# Best decision tree with deoth = 6\n",
        "clf = DecisionTree(max_depth=6, feature_labels =features)\n",
        "clf.fit(X_titanic, y_titanic)\n",
        "y_pred = clf.predict(titanic_test)\n",
        "y_pred.shape"
      ],
      "metadata": {
        "colab": {
          "base_uri": "https://localhost:8080/",
          "height": 0
        },
        "id": "jqCmJ7Gj_i7l",
        "outputId": "75e7f0c8-68db-4e46-8f30-17181bfaf558"
      },
      "execution_count": 63,
      "outputs": [
        {
          "output_type": "execute_result",
          "data": {
            "text/plain": [
              "(300,)"
            ]
          },
          "metadata": {},
          "execution_count": 63
        }
      ]
    },
    {
      "cell_type": "code",
      "source": [
        "results_to_csv(y_pred, 'titanic')"
      ],
      "metadata": {
        "id": "Gn3CvSYzJ0Ou"
      },
      "execution_count": 62,
      "outputs": []
    }
  ]
}