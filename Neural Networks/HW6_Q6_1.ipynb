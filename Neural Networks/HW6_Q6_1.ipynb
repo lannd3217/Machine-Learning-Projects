{
  "nbformat": 4,
  "nbformat_minor": 0,
  "metadata": {
    "colab": {
      "provenance": []
    },
    "kernelspec": {
      "name": "python3",
      "display_name": "Python 3"
    },
    "language_info": {
      "name": "python"
    }
  },
  "cells": [
    {
      "cell_type": "code",
      "source": [
        "import numpy as np"
      ],
      "metadata": {
        "id": "UJ6ltTZz9303"
      },
      "execution_count": 1,
      "outputs": []
    },
    {
      "cell_type": "markdown",
      "source": [
        "1. For a random matrix A ∈ R\n",
        "5×5, find its trace."
      ],
      "metadata": {
        "id": "_K_14BA3-J19"
      }
    },
    {
      "cell_type": "code",
      "source": [
        "A = np.random.rand(5,5)\n",
        "\n",
        "# Using numpy\n",
        "trace_A_np = np.trace(A)\n",
        "\n",
        "# Using einsum\n",
        "trace_A_ein = np.einsum('ii->', A)\n",
        "\n",
        "# Confirm they are the same\n",
        "print(\"Difference =\", np.linalg.norm(trace_A_np - trace_A_ein))"
      ],
      "metadata": {
        "colab": {
          "base_uri": "https://localhost:8080/"
        },
        "id": "UkKIW9qw-DFg",
        "outputId": "50c651f4-2cce-4e95-abe6-1c2859b9bdcc"
      },
      "execution_count": 2,
      "outputs": [
        {
          "output_type": "stream",
          "name": "stdout",
          "text": [
            "Difference = 0.0\n"
          ]
        }
      ]
    },
    {
      "cell_type": "markdown",
      "source": [
        "2. For random matrices A, B ∈ R\n",
        "5×5, compute their matrix product."
      ],
      "metadata": {
        "id": "aQ9hQ5AH--oB"
      }
    },
    {
      "cell_type": "code",
      "source": [
        "A = np.random.rand(5,5)\n",
        "B = np.random.rand(5,5)\n",
        "\n",
        "# Using numpy\n",
        "product_np = np.dot(A,B)\n",
        "\n",
        "# Using einsum\n",
        "product_ein = np.einsum('ij,jk->ik', A, B)\n",
        "\n",
        "# Confirm they are the same\n",
        "print(\"Difference =\", np.linalg.norm(product_np - product_ein))"
      ],
      "metadata": {
        "colab": {
          "base_uri": "https://localhost:8080/"
        },
        "id": "pO7achF7_CvS",
        "outputId": "3ccc2afd-1439-4558-f6a8-a1c2f8511398"
      },
      "execution_count": 3,
      "outputs": [
        {
          "output_type": "stream",
          "name": "stdout",
          "text": [
            "Difference = 5.087681048627601e-16\n"
          ]
        }
      ]
    },
    {
      "cell_type": "markdown",
      "source": [
        "3. For a batch of random matrices of shapes (3, 4, 5) and (3, 5, 6) (the batch size is 3 here),\n",
        "compute their batchwise matrix product (the resulting batch will have shape (3, 4, 6))."
      ],
      "metadata": {
        "id": "2sNgKamOAPdU"
      }
    },
    {
      "cell_type": "code",
      "source": [
        "batch1 = np.random.rand(3, 4, 5)\n",
        "batch2 = np.random.rand(3, 5, 6)\n",
        "\n",
        "# Using numpy\n",
        "batch_np = np.matmul(batch1, batch2)\n",
        "\n",
        "# Using einsum\n",
        "batch_ein = np.einsum('ijk,ikl->ijl', batch1, batch2)\n",
        "\n",
        "# Confirm they are the same\n",
        "print(\"Difference =\", np.linalg.norm(batch_np - batch_ein))\n"
      ],
      "metadata": {
        "colab": {
          "base_uri": "https://localhost:8080/"
        },
        "id": "31y46Eo5ATVX",
        "outputId": "9047a609-d7fc-4149-fc76-44b3b036813b"
      },
      "execution_count": 4,
      "outputs": [
        {
          "output_type": "stream",
          "name": "stdout",
          "text": [
            "Difference = 8.829589126839103e-16\n"
          ]
        }
      ]
    }
  ]
}